{
 "cells": [
  {
   "cell_type": "markdown",
   "metadata": {},
   "source": [
    "<center>\n",
    "    <img src=\"https://cf-courses-data.s3.us.cloud-object-storage.appdomain.cloud/IBMDeveloperSkillsNetwork-DS0105EN-SkillsNetwork/labs/Module2/images/SN_web_lightmode.png\" width=\"300\" alt=\"cognitiveclass.ai logo\">\n",
    "</center>\n"
   ]
  },
  {
   "cell_type": "markdown",
   "metadata": {},
   "source": [
    "#### Add your code below following the instructions given in the course\n"
   ]
  },
  {
   "cell_type": "markdown",
   "metadata": {},
   "source": [
    "# Herramientas para la Ciencia de Datos: Proyecto Final"
   ]
  },
  {
   "cell_type": "markdown",
   "metadata": {},
   "source": [
    "## Introducción Este cuaderno muestra ejemplos de lenguajes, bibliotecas y herramientas utilizadas en ciencia de datos, así como operaciones básicas en Python."
   ]
  },
  {
   "cell_type": "markdown",
   "metadata": {},
   "source": [
    "## Lenguajes de Ciencia de Datos  \n",
    "- Python  \n",
    "- R  \n",
    "- SQL  \n",
    "- Julia (opcional)"
   ]
  },
  {
   "cell_type": "markdown",
   "metadata": {},
   "source": [
    "## Bibliotecas de Ciencia de Datos  \n",
    "- **Pandas**: Manipulación de datos.  \n",
    "- **Scikit-learn**: Aprendizaje automático.  \n",
    "- **Matplotlib**: Visualización.  \n",
    "- **TensorFlow**: Aprendizaje profundo."
   ]
  },
  {
   "cell_type": "markdown",
   "metadata": {},
   "source": [
    "## Herramientas de Ciencia de Datos  \n",
    "| Herramienta       | Tipo               |  \n",
    "|-------------------|--------------------|  \n",
    "| JupyterLite       | Entorno de desarrollo |  \n",
    "| GitHub            | Control de versiones |  \n",
    "| Google Colab      | Plataforma en la nube |  "
   ]
  },
  {
   "cell_type": "markdown",
   "metadata": {},
   "source": [
    "## Expresiones Aritméticas  \n",
    "Ejemplos en Python:  \n",
    "- Suma: `3 + 5 = 8`  \n",
    "- Multiplicación: `4 * 6 = 24`  \n",
    "- Potencia: `2 ** 3 = 8`"
   ]
  },
  {
   "cell_type": "code",
   "execution_count": 11,
   "metadata": {},
   "outputs": [
    {
     "name": "stdout",
     "output_type": "stream",
     "text": [
      "El resultado de (3 * 5) + 2 es: 17\n"
     ]
    }
   ],
   "source": [
    "# Multiplicación y suma\n",
    "resultado = (3 * 5) + 2\n",
    "print(\"El resultado de (3 * 5) + 2 es:\", resultado)"
   ]
  },
  {
   "cell_type": "code",
   "execution_count": 12,
   "metadata": {},
   "outputs": [
    {
     "name": "stdout",
     "output_type": "stream",
     "text": [
      "120 minutos equivalen a 2.0 horas\n"
     ]
    }
   ],
   "source": [
    "# Conversión de minutos a horas\n",
    "minutos = 120\n",
    "horas = minutos / 60\n",
    "print(f\"{minutos} minutos equivalen a {horas} horas\")"
   ]
  },
  {
   "cell_type": "code",
   "execution_count": 13,
   "metadata": {},
   "outputs": [
    {
     "name": "stdout",
     "output_type": "stream",
     "text": [
      "Objetivos del proyecto:\n",
      "- Mostrar lenguajes de ciencia de datos\n",
      "- Listar bibliotecas clave\n",
      "- Demostrar operaciones en Python\n"
     ]
    }
   ],
   "source": [
    "# Objetivos del proyecto\n",
    "print(\"Objetivos del proyecto:\")\n",
    "objetivos = [\n",
    "    \"Mostrar lenguajes de ciencia de datos\",\n",
    "    \"Listar bibliotecas clave\",\n",
    "    \"Demostrar operaciones en Python\"\n",
    "]\n",
    "for objetivo in objetivos:\n",
    "    print(\"-\", objetivo)"
   ]
  },
  {
   "cell_type": "markdown",
   "metadata": {},
   "source": [
    "## Autor  \n",
    "Nombre: Yerko Monsalves Aravena\n",
    "Fecha: 27-07-2025"
   ]
  },
  {
   "cell_type": "code",
   "execution_count": null,
   "metadata": {},
   "outputs": [],
   "source": []
  }
 ],
 "metadata": {
  "kernelspec": {
   "display_name": "Python 3 (ipykernel)",
   "language": "python",
   "name": "python3"
  },
  "language_info": {
   "codemirror_mode": {
    "name": "ipython",
    "version": 3
   },
   "file_extension": ".py",
   "mimetype": "text/x-python",
   "name": "python",
   "nbconvert_exporter": "python",
   "pygments_lexer": "ipython3",
   "version": "3.12.8"
  }
 },
 "nbformat": 4,
 "nbformat_minor": 4
}
